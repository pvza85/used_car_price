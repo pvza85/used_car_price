{
 "cells": [
  {
   "cell_type": "markdown",
   "metadata": {},
   "source": [
    "# Used Car Dataset\n",
    "I am using Kaggle [Used car database ](https://www.kaggle.com/orgesleka/used-cars-database)to do small investigation over second hand cars."
   ]
  },
  {
   "cell_type": "code",
   "execution_count": 216,
   "metadata": {
    "collapsed": true
   },
   "outputs": [],
   "source": [
    "import pandas as pd\n",
    "import numpy as np\n",
    "from sklearn import linear_model\n",
    "import matplotlib.pyplot as plt\n",
    "\n",
    "%matplotlib inline"
   ]
  },
  {
   "cell_type": "markdown",
   "metadata": {},
   "source": [
    "## Reading dataset"
   ]
  },
  {
   "cell_type": "code",
   "execution_count": 217,
   "metadata": {
    "collapsed": false
   },
   "outputs": [
    {
     "name": "stdout",
     "output_type": "stream",
     "text": [
      "list of columns available in our dataset: \n"
     ]
    },
    {
     "data": {
      "text/plain": [
       "Index([u'dateCrawled', u'name', u'seller', u'offerType', u'price', u'abtest',\n",
       "       u'vehicleType', u'yearOfRegistration', u'gearbox', u'powerPS', u'model',\n",
       "       u'kilometer', u'monthOfRegistration', u'fuelType', u'brand',\n",
       "       u'notRepairedDamage', u'dateCreated', u'nrOfPictures', u'postalCode',\n",
       "       u'lastSeen'],\n",
       "      dtype='object')"
      ]
     },
     "execution_count": 217,
     "metadata": {},
     "output_type": "execute_result"
    }
   ],
   "source": [
    "# autos.csv has been downloaded and save beside our notebook\n",
    "df_raw = pd.read_csv('autos.csv', encoding='latin-1')\n",
    "df = df_raw.copy() #just to keep raw data in memory to later uses\n",
    "print 'list of columns available in our dataset: '\n",
    "df.columns"
   ]
  },
  {
   "cell_type": "markdown",
   "metadata": {},
   "source": [
    "## Clean Data\n",
    "### dates\n",
    "Dates are in string format for further investigation it is easier to convert them to datetime objects."
   ]
  },
  {
   "cell_type": "code",
   "execution_count": 218,
   "metadata": {
    "collapsed": false
   },
   "outputs": [],
   "source": [
    "# converting strings to dates\n",
    "df['dateCrawled'] = df['dateCrawled'].astype('datetime64')\n",
    "df['dateCreated'] = df['dateCreated'].astype('datetime64')\n",
    "df['lastSeen'] = df['lastSeen'].astype('datetime64[ns]')"
   ]
  },
  {
   "cell_type": "markdown",
   "metadata": {},
   "source": [
    "### unimport columns\n",
    "As we can see below columns carry not enough data, so I am dropping them. All of the nrOfPictures are 0 so it has no data, sellers are 371525 private and just 3 are gewerblich. it is pretty same ifor offerType."
   ]
  },
  {
   "cell_type": "code",
   "execution_count": 221,
   "metadata": {
    "collapsed": false
   },
   "outputs": [
    {
     "name": "stdout",
     "output_type": "stream",
     "text": [
      "0 \n",
      "\n",
      "privat        371525\n",
      "gewerblich         3\n",
      "Name: seller, dtype: int64 \n",
      "\n",
      "Angebot    371516\n",
      "Gesuch         12\n",
      "Name: offerType, dtype: int64 \n",
      "\n"
     ]
    }
   ],
   "source": [
    "print df.nrOfPictures.sum(), '\\n'\n",
    "print df.seller.value_counts(), '\\n'\n",
    "print df.offerType.value_counts(), '\\n'\n",
    "\n",
    "# drop unimportant columns\n",
    "df.drop(['nrOfPictures', 'seller', 'offerType' ], axis=1, inplace=True)"
   ]
  },
  {
   "cell_type": "markdown",
   "metadata": {},
   "source": [
    "### names and abtest\n",
    "df.name contains some valuable data but we are not using it so we are keeping it to use later. We need to do some NLP investigation over it. We can extract information out if it, but let's put it aside now.\n",
    "\n",
    "I don't know what is abset column is for. So I am dropping it also."
   ]
  },
  {
   "cell_type": "code",
   "execution_count": 222,
   "metadata": {
    "collapsed": false
   },
   "outputs": [],
   "source": [
    "df_with_test_names = df.copy()\n",
    "df.drop(['name'], axis=1, inplace=True)\n",
    "df.drop('abtest', axis=1, inplace=True)"
   ]
  },
  {
   "cell_type": "markdown",
   "metadata": {},
   "source": [
    "### null values\n",
    "As we can see we have about 110,000 entries with some sort of missing values. The easiest way to deal with them is just ignoring them. We can do more smart actions later, like Expectation Maximization and ...."
   ]
  },
  {
   "cell_type": "code",
   "execution_count": 223,
   "metadata": {
    "collapsed": false
   },
   "outputs": [
    {
     "name": "stdout",
     "output_type": "stream",
     "text": [
      "shape before dropping nulls:  (371528, 15)\n",
      "nulls in details(each column): \n",
      "    dateCrawled : 0\n",
      "    price : 0\n",
      "    vehicleType : 37869\n",
      "    yearOfRegistration : 0\n",
      "    gearbox : 20209\n",
      "    powerPS : 0\n",
      "    model : 20484\n",
      "    kilometer : 0\n",
      "    monthOfRegistration : 0\n",
      "    fuelType : 33386\n",
      "    brand : 0\n",
      "    notRepairedDamage : 72060\n",
      "    dateCreated : 0\n",
      "    postalCode : 0\n",
      "    lastSeen : 0\n",
      "shape after dropping nulls:  (257100, 15)\n"
     ]
    }
   ],
   "source": [
    "print 'shape before dropping nulls: ', df.shape\n",
    "print 'nulls in details(each column): '\n",
    "for c in df.columns:\n",
    "    print '   ',c, ':', sum(pd.isnull(df[c]))\n",
    "\n",
    "df.dropna(inplace=True)\n",
    "df = df[df['price'] != 0]\n",
    "df = df[df['price'] < 1000000]\n",
    "df = df[df['yearOfRegistration'] < 2016]\n",
    "df = df[df['powerPS'] < 1000]\n",
    "print 'shape after dropping nulls: ', df.shape"
   ]
  },
  {
   "cell_type": "code",
   "execution_count": 224,
   "metadata": {
    "collapsed": false
   },
   "outputs": [
    {
     "name": "stdout",
     "output_type": "stream",
     "text": [
      "dateCrawled :\n",
      "count                  257100\n",
      "unique                 210972\n",
      "top       2016-03-31 16:50:28\n",
      "freq                        5\n",
      "first     2016-03-05 14:06:22\n",
      "last      2016-04-07 14:36:58\n",
      "Name: dateCrawled, dtype: object\n",
      "\n",
      "\n",
      "price :\n",
      "count    257100.000000\n",
      "mean       6773.357114\n",
      "std       10328.283040\n",
      "min           1.000000\n",
      "25%        1600.000000\n",
      "50%        3900.000000\n",
      "75%        8750.000000\n",
      "max      999999.000000\n",
      "Name: price, dtype: float64\n",
      "\n",
      "\n",
      "vehicleType :\n",
      "count        257100\n",
      "unique            8\n",
      "top       limousine\n",
      "freq          75279\n",
      "Name: vehicleType, dtype: object\n",
      "\n",
      "\n",
      "yearOfRegistration :\n",
      "count    257100.000000\n",
      "mean       2003.349724\n",
      "std           6.477017\n",
      "min        1910.000000\n",
      "25%        1999.000000\n",
      "50%        2004.000000\n",
      "75%        2008.000000\n",
      "max        2015.000000\n",
      "Name: yearOfRegistration, dtype: float64\n",
      "\n",
      "\n",
      "gearbox :\n",
      "count      257100\n",
      "unique          2\n",
      "top       manuell\n",
      "freq       196976\n",
      "Name: gearbox, dtype: object\n",
      "\n",
      "\n",
      "powerPS :\n",
      "count    257100.000000\n",
      "mean        124.730996\n",
      "std          65.901521\n",
      "min           0.000000\n",
      "25%          80.000000\n",
      "50%         116.000000\n",
      "75%         150.000000\n",
      "max         999.000000\n",
      "Name: powerPS, dtype: float64\n",
      "\n",
      "\n",
      "model :\n",
      "count     257100\n",
      "unique       250\n",
      "top         golf\n",
      "freq       20587\n",
      "Name: model, dtype: object\n",
      "\n",
      "\n",
      "kilometer :\n",
      "count    257100.000000\n",
      "mean     124074.426293\n",
      "std       39680.234192\n",
      "min        5000.000000\n",
      "25%      100000.000000\n",
      "50%      150000.000000\n",
      "75%      150000.000000\n",
      "max      150000.000000\n",
      "Name: kilometer, dtype: float64\n",
      "\n",
      "\n",
      "monthOfRegistration :\n",
      "count    257100.000000\n",
      "mean          6.199160\n",
      "std           3.461913\n",
      "min           0.000000\n",
      "25%           3.000000\n",
      "50%           6.000000\n",
      "75%           9.000000\n",
      "max          12.000000\n",
      "Name: monthOfRegistration, dtype: float64\n",
      "\n",
      "\n",
      "fuelType :\n",
      "count     257100\n",
      "unique         7\n",
      "top       benzin\n",
      "freq      166363\n",
      "Name: fuelType, dtype: object\n",
      "\n",
      "\n",
      "brand :\n",
      "count         257100\n",
      "unique            39\n",
      "top       volkswagen\n",
      "freq           53310\n",
      "Name: brand, dtype: object\n",
      "\n",
      "\n",
      "notRepairedDamage :\n",
      "count     257100\n",
      "unique         2\n",
      "top         nein\n",
      "freq      230333\n",
      "Name: notRepairedDamage, dtype: object\n",
      "\n",
      "\n",
      "dateCreated :\n",
      "count                  257100\n",
      "unique                    107\n",
      "top       2016-04-03 00:00:00\n",
      "freq                    10166\n",
      "first     2015-03-20 00:00:00\n",
      "last      2016-04-07 00:00:00\n",
      "Name: dateCreated, dtype: object\n",
      "\n",
      "\n",
      "postalCode :\n",
      "count    257100.000000\n",
      "mean      51925.028269\n",
      "std       25825.368813\n",
      "min        1067.000000\n",
      "25%       31275.000000\n",
      "50%       51143.000000\n",
      "75%       72805.000000\n",
      "max       99998.000000\n",
      "Name: postalCode, dtype: float64\n",
      "\n",
      "\n",
      "lastSeen :\n",
      "count                  257100\n",
      "unique                 133965\n",
      "top       2016-04-07 06:45:59\n",
      "freq                       16\n",
      "first     2016-03-05 14:15:16\n",
      "last      2016-04-07 14:58:51\n",
      "Name: lastSeen, dtype: object\n",
      "\n",
      "\n"
     ]
    }
   ],
   "source": [
    "for c in df.columns:\n",
    "    print c, ':'\n",
    "    print df[c].describe()\n",
    "    print '\\n'"
   ]
  },
  {
   "cell_type": "markdown",
   "metadata": {},
   "source": [
    "## Age and Selling time\n",
    "Register date is a valuable data but in some comparisonal operations is not very useful, so I am calculating of each cars age at the selling date and save them in age_year and age_month columns.\n",
    "\n",
    "Another very important data to investigate is the minimum time that the advertisement was online. I am keeping this data in min_online_time in hours."
   ]
  },
  {
   "cell_type": "code",
   "execution_count": 229,
   "metadata": {
    "collapsed": false
   },
   "outputs": [],
   "source": [
    "def calcAge(row):\n",
    "    if row['monthOfRegistration'] != 0:\n",
    "        res = row['dateCrawled'] - datetime.datetime(row['yearOfRegistration'], row['monthOfRegistration'], 1)\n",
    "    else:\n",
    "        res = row['dateCrawled'] - datetime.datetime(row['yearOfRegistration'], 1, 1)\n",
    "    return int(res.days/30), int(res.days/365)\n",
    "def calc_min_online_time(row):\n",
    "    return int((row['lastSeen'] - row['dateCreated']).seconds/3600)"
   ]
  },
  {
   "cell_type": "code",
   "execution_count": 230,
   "metadata": {
    "collapsed": false
   },
   "outputs": [
    {
     "ename": "KeyboardInterrupt",
     "evalue": "",
     "output_type": "error",
     "traceback": [
      "\u001b[0;31m---------------------------------------------------------------------------\u001b[0m",
      "\u001b[0;31mKeyboardInterrupt\u001b[0m                         Traceback (most recent call last)",
      "\u001b[0;32m<ipython-input-230-920b99547263>\u001b[0m in \u001b[0;36m<module>\u001b[0;34m()\u001b[0m\n\u001b[1;32m      1\u001b[0m \u001b[0mdf\u001b[0m\u001b[0;34m[\u001b[0m\u001b[0;34m'min_online_time'\u001b[0m\u001b[0;34m]\u001b[0m \u001b[0;34m=\u001b[0m  \u001b[0mdf\u001b[0m\u001b[0;34m.\u001b[0m\u001b[0mapply\u001b[0m\u001b[0;34m(\u001b[0m\u001b[0mcalc_min_online_time\u001b[0m\u001b[0;34m,\u001b[0m \u001b[0maxis\u001b[0m\u001b[0;34m=\u001b[0m\u001b[0;36m1\u001b[0m\u001b[0;34m)\u001b[0m\u001b[0;34m\u001b[0m\u001b[0m\n\u001b[0;32m----> 2\u001b[0;31m \u001b[0mdf\u001b[0m\u001b[0;34m[\u001b[0m\u001b[0;34m[\u001b[0m\u001b[0;34m'age_days'\u001b[0m\u001b[0;34m,\u001b[0m \u001b[0;34m'age_years'\u001b[0m\u001b[0;34m]\u001b[0m\u001b[0;34m]\u001b[0m \u001b[0;34m=\u001b[0m \u001b[0mdf\u001b[0m\u001b[0;34m.\u001b[0m\u001b[0mapply\u001b[0m\u001b[0;34m(\u001b[0m\u001b[0mcalcAge\u001b[0m\u001b[0;34m,\u001b[0m \u001b[0maxis\u001b[0m\u001b[0;34m=\u001b[0m\u001b[0;36m1\u001b[0m\u001b[0;34m)\u001b[0m\u001b[0;34m\u001b[0m\u001b[0m\n\u001b[0m",
      "\u001b[0;32m/usr/local/lib/python2.7/dist-packages/pandas/core/frame.pyc\u001b[0m in \u001b[0;36mapply\u001b[0;34m(self, func, axis, broadcast, raw, reduce, args, **kwds)\u001b[0m\n\u001b[1;32m   4161\u001b[0m                     \u001b[0;32mif\u001b[0m \u001b[0mreduce\u001b[0m \u001b[0;32mis\u001b[0m \u001b[0mNone\u001b[0m\u001b[0;34m:\u001b[0m\u001b[0;34m\u001b[0m\u001b[0m\n\u001b[1;32m   4162\u001b[0m                         \u001b[0mreduce\u001b[0m \u001b[0;34m=\u001b[0m \u001b[0mTrue\u001b[0m\u001b[0;34m\u001b[0m\u001b[0m\n\u001b[0;32m-> 4163\u001b[0;31m                     \u001b[0;32mreturn\u001b[0m \u001b[0mself\u001b[0m\u001b[0;34m.\u001b[0m\u001b[0m_apply_standard\u001b[0m\u001b[0;34m(\u001b[0m\u001b[0mf\u001b[0m\u001b[0;34m,\u001b[0m \u001b[0maxis\u001b[0m\u001b[0;34m,\u001b[0m \u001b[0mreduce\u001b[0m\u001b[0;34m=\u001b[0m\u001b[0mreduce\u001b[0m\u001b[0;34m)\u001b[0m\u001b[0;34m\u001b[0m\u001b[0m\n\u001b[0m\u001b[1;32m   4164\u001b[0m             \u001b[0;32melse\u001b[0m\u001b[0;34m:\u001b[0m\u001b[0;34m\u001b[0m\u001b[0m\n\u001b[1;32m   4165\u001b[0m                 \u001b[0;32mreturn\u001b[0m \u001b[0mself\u001b[0m\u001b[0;34m.\u001b[0m\u001b[0m_apply_broadcast\u001b[0m\u001b[0;34m(\u001b[0m\u001b[0mf\u001b[0m\u001b[0;34m,\u001b[0m \u001b[0maxis\u001b[0m\u001b[0;34m)\u001b[0m\u001b[0;34m\u001b[0m\u001b[0m\n",
      "\u001b[0;32m/usr/local/lib/python2.7/dist-packages/pandas/core/frame.pyc\u001b[0m in \u001b[0;36m_apply_standard\u001b[0;34m(self, func, axis, ignore_failures, reduce)\u001b[0m\n\u001b[1;32m   4274\u001b[0m                 \u001b[0mindex\u001b[0m \u001b[0;34m=\u001b[0m \u001b[0mNone\u001b[0m\u001b[0;34m\u001b[0m\u001b[0m\n\u001b[1;32m   4275\u001b[0m \u001b[0;34m\u001b[0m\u001b[0m\n\u001b[0;32m-> 4276\u001b[0;31m             \u001b[0mresult\u001b[0m \u001b[0;34m=\u001b[0m \u001b[0mself\u001b[0m\u001b[0;34m.\u001b[0m\u001b[0m_constructor\u001b[0m\u001b[0;34m(\u001b[0m\u001b[0mdata\u001b[0m\u001b[0;34m=\u001b[0m\u001b[0mresults\u001b[0m\u001b[0;34m,\u001b[0m \u001b[0mindex\u001b[0m\u001b[0;34m=\u001b[0m\u001b[0mindex\u001b[0m\u001b[0;34m)\u001b[0m\u001b[0;34m\u001b[0m\u001b[0m\n\u001b[0m\u001b[1;32m   4277\u001b[0m             \u001b[0mresult\u001b[0m\u001b[0;34m.\u001b[0m\u001b[0mcolumns\u001b[0m \u001b[0;34m=\u001b[0m \u001b[0mres_index\u001b[0m\u001b[0;34m\u001b[0m\u001b[0m\n\u001b[1;32m   4278\u001b[0m \u001b[0;34m\u001b[0m\u001b[0m\n",
      "\u001b[0;32m/usr/local/lib/python2.7/dist-packages/pandas/core/frame.pyc\u001b[0m in \u001b[0;36m__init__\u001b[0;34m(self, data, index, columns, dtype, copy)\u001b[0m\n\u001b[1;32m    264\u001b[0m                                  dtype=dtype, copy=copy)\n\u001b[1;32m    265\u001b[0m         \u001b[0;32melif\u001b[0m \u001b[0misinstance\u001b[0m\u001b[0;34m(\u001b[0m\u001b[0mdata\u001b[0m\u001b[0;34m,\u001b[0m \u001b[0mdict\u001b[0m\u001b[0;34m)\u001b[0m\u001b[0;34m:\u001b[0m\u001b[0;34m\u001b[0m\u001b[0m\n\u001b[0;32m--> 266\u001b[0;31m             \u001b[0mmgr\u001b[0m \u001b[0;34m=\u001b[0m \u001b[0mself\u001b[0m\u001b[0;34m.\u001b[0m\u001b[0m_init_dict\u001b[0m\u001b[0;34m(\u001b[0m\u001b[0mdata\u001b[0m\u001b[0;34m,\u001b[0m \u001b[0mindex\u001b[0m\u001b[0;34m,\u001b[0m \u001b[0mcolumns\u001b[0m\u001b[0;34m,\u001b[0m \u001b[0mdtype\u001b[0m\u001b[0;34m=\u001b[0m\u001b[0mdtype\u001b[0m\u001b[0;34m)\u001b[0m\u001b[0;34m\u001b[0m\u001b[0m\n\u001b[0m\u001b[1;32m    267\u001b[0m         \u001b[0;32melif\u001b[0m \u001b[0misinstance\u001b[0m\u001b[0;34m(\u001b[0m\u001b[0mdata\u001b[0m\u001b[0;34m,\u001b[0m \u001b[0mma\u001b[0m\u001b[0;34m.\u001b[0m\u001b[0mMaskedArray\u001b[0m\u001b[0;34m)\u001b[0m\u001b[0;34m:\u001b[0m\u001b[0;34m\u001b[0m\u001b[0m\n\u001b[1;32m    268\u001b[0m             \u001b[0;32mimport\u001b[0m \u001b[0mnumpy\u001b[0m\u001b[0;34m.\u001b[0m\u001b[0mma\u001b[0m\u001b[0;34m.\u001b[0m\u001b[0mmrecords\u001b[0m \u001b[0;32mas\u001b[0m \u001b[0mmrecords\u001b[0m\u001b[0;34m\u001b[0m\u001b[0m\n",
      "\u001b[0;32m/usr/local/lib/python2.7/dist-packages/pandas/core/frame.pyc\u001b[0m in \u001b[0;36m_init_dict\u001b[0;34m(self, data, index, columns, dtype)\u001b[0m\n\u001b[1;32m    400\u001b[0m             \u001b[0marrays\u001b[0m \u001b[0;34m=\u001b[0m \u001b[0;34m[\u001b[0m\u001b[0mdata\u001b[0m\u001b[0;34m[\u001b[0m\u001b[0mk\u001b[0m\u001b[0;34m]\u001b[0m \u001b[0;32mfor\u001b[0m \u001b[0mk\u001b[0m \u001b[0;32min\u001b[0m \u001b[0mkeys\u001b[0m\u001b[0;34m]\u001b[0m\u001b[0;34m\u001b[0m\u001b[0m\n\u001b[1;32m    401\u001b[0m \u001b[0;34m\u001b[0m\u001b[0m\n\u001b[0;32m--> 402\u001b[0;31m         \u001b[0;32mreturn\u001b[0m \u001b[0m_arrays_to_mgr\u001b[0m\u001b[0;34m(\u001b[0m\u001b[0marrays\u001b[0m\u001b[0;34m,\u001b[0m \u001b[0mdata_names\u001b[0m\u001b[0;34m,\u001b[0m \u001b[0mindex\u001b[0m\u001b[0;34m,\u001b[0m \u001b[0mcolumns\u001b[0m\u001b[0;34m,\u001b[0m \u001b[0mdtype\u001b[0m\u001b[0;34m=\u001b[0m\u001b[0mdtype\u001b[0m\u001b[0;34m)\u001b[0m\u001b[0;34m\u001b[0m\u001b[0m\n\u001b[0m\u001b[1;32m    403\u001b[0m \u001b[0;34m\u001b[0m\u001b[0m\n\u001b[1;32m    404\u001b[0m     \u001b[0;32mdef\u001b[0m \u001b[0m_init_ndarray\u001b[0m\u001b[0;34m(\u001b[0m\u001b[0mself\u001b[0m\u001b[0;34m,\u001b[0m \u001b[0mvalues\u001b[0m\u001b[0;34m,\u001b[0m \u001b[0mindex\u001b[0m\u001b[0;34m,\u001b[0m \u001b[0mcolumns\u001b[0m\u001b[0;34m,\u001b[0m \u001b[0mdtype\u001b[0m\u001b[0;34m=\u001b[0m\u001b[0mNone\u001b[0m\u001b[0;34m,\u001b[0m \u001b[0mcopy\u001b[0m\u001b[0;34m=\u001b[0m\u001b[0mFalse\u001b[0m\u001b[0;34m)\u001b[0m\u001b[0;34m:\u001b[0m\u001b[0;34m\u001b[0m\u001b[0m\n",
      "\u001b[0;32m/usr/local/lib/python2.7/dist-packages/pandas/core/frame.pyc\u001b[0m in \u001b[0;36m_arrays_to_mgr\u001b[0;34m(arrays, arr_names, index, columns, dtype)\u001b[0m\n\u001b[1;32m   5412\u001b[0m \u001b[0;34m\u001b[0m\u001b[0m\n\u001b[1;32m   5413\u001b[0m     \u001b[0;31m# don't force copy because getting jammed in an ndarray anyway\u001b[0m\u001b[0;34m\u001b[0m\u001b[0;34m\u001b[0m\u001b[0m\n\u001b[0;32m-> 5414\u001b[0;31m     \u001b[0marrays\u001b[0m \u001b[0;34m=\u001b[0m \u001b[0m_homogenize\u001b[0m\u001b[0;34m(\u001b[0m\u001b[0marrays\u001b[0m\u001b[0;34m,\u001b[0m \u001b[0mindex\u001b[0m\u001b[0;34m,\u001b[0m \u001b[0mdtype\u001b[0m\u001b[0;34m)\u001b[0m\u001b[0;34m\u001b[0m\u001b[0m\n\u001b[0m\u001b[1;32m   5415\u001b[0m \u001b[0;34m\u001b[0m\u001b[0m\n\u001b[1;32m   5416\u001b[0m     \u001b[0;31m# from BlockManager perspective\u001b[0m\u001b[0;34m\u001b[0m\u001b[0;34m\u001b[0m\u001b[0m\n",
      "\u001b[0;32m/usr/local/lib/python2.7/dist-packages/pandas/core/frame.pyc\u001b[0m in \u001b[0;36m_homogenize\u001b[0;34m(data, index, dtype)\u001b[0m\n\u001b[1;32m   5723\u001b[0m                 \u001b[0mv\u001b[0m \u001b[0;34m=\u001b[0m \u001b[0mlib\u001b[0m\u001b[0;34m.\u001b[0m\u001b[0mfast_multiget\u001b[0m\u001b[0;34m(\u001b[0m\u001b[0mv\u001b[0m\u001b[0;34m,\u001b[0m \u001b[0moindex\u001b[0m\u001b[0;34m.\u001b[0m\u001b[0mvalues\u001b[0m\u001b[0;34m,\u001b[0m \u001b[0mdefault\u001b[0m\u001b[0;34m=\u001b[0m\u001b[0mNA\u001b[0m\u001b[0;34m)\u001b[0m\u001b[0;34m\u001b[0m\u001b[0m\n\u001b[1;32m   5724\u001b[0m             v = _sanitize_array(v, index, dtype=dtype, copy=False,\n\u001b[0;32m-> 5725\u001b[0;31m                                 raise_cast_failure=False)\n\u001b[0m\u001b[1;32m   5726\u001b[0m \u001b[0;34m\u001b[0m\u001b[0m\n\u001b[1;32m   5727\u001b[0m         \u001b[0mhomogenized\u001b[0m\u001b[0;34m.\u001b[0m\u001b[0mappend\u001b[0m\u001b[0;34m(\u001b[0m\u001b[0mv\u001b[0m\u001b[0;34m)\u001b[0m\u001b[0;34m\u001b[0m\u001b[0m\n",
      "\u001b[0;32m/usr/local/lib/python2.7/dist-packages/pandas/core/series.pyc\u001b[0m in \u001b[0;36m_sanitize_array\u001b[0;34m(data, index, dtype, copy, raise_cast_failure)\u001b[0m\n\u001b[1;32m   2894\u001b[0m \u001b[0;34m\u001b[0m\u001b[0m\n\u001b[1;32m   2895\u001b[0m         \u001b[0;32melse\u001b[0m\u001b[0;34m:\u001b[0m\u001b[0;34m\u001b[0m\u001b[0m\n\u001b[0;32m-> 2896\u001b[0;31m             \u001b[0msubarr\u001b[0m \u001b[0;34m=\u001b[0m \u001b[0m_possibly_convert_platform\u001b[0m\u001b[0;34m(\u001b[0m\u001b[0mdata\u001b[0m\u001b[0;34m)\u001b[0m\u001b[0;34m\u001b[0m\u001b[0m\n\u001b[0m\u001b[1;32m   2897\u001b[0m \u001b[0;34m\u001b[0m\u001b[0m\n\u001b[1;32m   2898\u001b[0m         \u001b[0msubarr\u001b[0m \u001b[0;34m=\u001b[0m \u001b[0m_possibly_cast_to_datetime\u001b[0m\u001b[0;34m(\u001b[0m\u001b[0msubarr\u001b[0m\u001b[0;34m,\u001b[0m \u001b[0mdtype\u001b[0m\u001b[0;34m)\u001b[0m\u001b[0;34m\u001b[0m\u001b[0m\n",
      "\u001b[0;32m/usr/local/lib/python2.7/dist-packages/pandas/types/cast.pyc\u001b[0m in \u001b[0;36m_possibly_convert_platform\u001b[0;34m(values)\u001b[0m\n\u001b[1;32m     39\u001b[0m         \u001b[0;32mif\u001b[0m \u001b[0mhasattr\u001b[0m\u001b[0;34m(\u001b[0m\u001b[0mvalues\u001b[0m\u001b[0;34m,\u001b[0m \u001b[0;34m'_values'\u001b[0m\u001b[0;34m)\u001b[0m\u001b[0;34m:\u001b[0m\u001b[0;34m\u001b[0m\u001b[0m\n\u001b[1;32m     40\u001b[0m             \u001b[0mvalues\u001b[0m \u001b[0;34m=\u001b[0m \u001b[0mvalues\u001b[0m\u001b[0;34m.\u001b[0m\u001b[0m_values\u001b[0m\u001b[0;34m\u001b[0m\u001b[0m\n\u001b[0;32m---> 41\u001b[0;31m         \u001b[0mvalues\u001b[0m \u001b[0;34m=\u001b[0m \u001b[0mlib\u001b[0m\u001b[0;34m.\u001b[0m\u001b[0mmaybe_convert_objects\u001b[0m\u001b[0;34m(\u001b[0m\u001b[0mvalues\u001b[0m\u001b[0;34m)\u001b[0m\u001b[0;34m\u001b[0m\u001b[0m\n\u001b[0m\u001b[1;32m     42\u001b[0m \u001b[0;34m\u001b[0m\u001b[0m\n\u001b[1;32m     43\u001b[0m     \u001b[0;32mreturn\u001b[0m \u001b[0mvalues\u001b[0m\u001b[0;34m\u001b[0m\u001b[0m\n",
      "\u001b[0;31mKeyboardInterrupt\u001b[0m: "
     ]
    }
   ],
   "source": [
    "df['min_online_time'] =  df.apply(calc_min_online_time, axis=1)\n",
    "df[['age_days', 'age_years']] = df.apply(calcAge, axis=1)"
   ]
  },
  {
   "cell_type": "markdown",
   "metadata": {},
   "source": [
    "## Data Exploration\n",
    "Doing some sort of data exploration..."
   ]
  },
  {
   "cell_type": "code",
   "execution_count": null,
   "metadata": {
    "collapsed": false
   },
   "outputs": [],
   "source": [
    "\n",
    "df = df[df['price'] < 100000]\n",
    "regr = linear_model.Lasso(alpha=0.1)\n",
    "x = df['age_days'].values.reshape(len(df), 1)\n",
    "y = df['price'].values.reshape(len(df), 1)\n",
    "regr.fit(x, y)\n",
    "\n",
    "\n",
    "plt.scatter(x, y,  color='black')\n",
    "plt.plot(x, regr.predict(x), color='blue',\n",
    "         linewidth=3)"
   ]
  },
  {
   "cell_type": "code",
   "execution_count": null,
   "metadata": {
    "collapsed": false
   },
   "outputs": [],
   "source": [
    "res = []\n",
    "j = 0\n",
    "for i in np.unique(x):\n",
    "    res.append(np.mean(y[x==i]))\n",
    "    j += 1\n",
    "plt.plot(np.unique(x), res)"
   ]
  },
  {
   "cell_type": "code",
   "execution_count": 174,
   "metadata": {
    "collapsed": false
   },
   "outputs": [],
   "source": [
    "df_not_classic = df[df['age'] < 240]"
   ]
  },
  {
   "cell_type": "code",
   "execution_count": 177,
   "metadata": {
    "collapsed": false
   },
   "outputs": [
    {
     "data": {
      "text/plain": [
       "[<matplotlib.lines.Line2D at 0x7f0019b4d490>]"
      ]
     },
     "execution_count": 177,
     "metadata": {},
     "output_type": "execute_result"
    },
    {
     "data": {
      "image/png": "[encoded data removed]",
      "text/plain": [
       "<matplotlib.figure.Figure at 0x7f00055fadd0>"
      ]
     },
     "metadata": {},
     "output_type": "display_data"
    }
   ],
   "source": [
    "x = df_not_classic['age'].values.reshape(len(df_not_classic), 1)\n",
    "y = df_not_classic['price'].values.reshape(len(df_not_classic), 1)\n",
    "\n",
    "res = []\n",
    "j = 0\n",
    "for i in np.unique(x):\n",
    "    res.append(np.mean(y[x==i]))\n",
    "    j += 1\n",
    "plt.plot(np.unique(x), res)"
   ]
  },
  {
   "cell_type": "code",
   "execution_count": 190,
   "metadata": {
    "collapsed": false
   },
   "outputs": [
    {
     "data": {
      "text/plain": [
       "[<matplotlib.lines.Line2D at 0x7f0013961250>]"
      ]
     },
     "execution_count": 190,
     "metadata": {},
     "output_type": "execute_result"
    },
    {
     "data": {
      "image/png": "[encoded data removed]",
      "text/plain": [
       "<matplotlib.figure.Figure at 0x7f0013935210>"
      ]
     },
     "metadata": {},
     "output_type": "display_data"
    }
   ],
   "source": [
    "x_b = df_not_classic[df_not_classic['fuelType'] == 'benzin']['age'].values.reshape(len(df_not_classic[df_not_classic['fuelType'] == 'benzin']), 1)\n",
    "y_b = df_not_classic[df_not_classic['fuelType'] == 'benzin']['price'].values.reshape(len(df_not_classic[df_not_classic['fuelType'] == 'benzin']), 1)\n",
    "res_b = []\n",
    "for i in np.unique(x_b):\n",
    "    res_b.append(np.mean(y_b[x_b==i]))\n",
    "       \n",
    "x_d = df_not_classic[df_not_classic['fuelType'] == 'diesel']['age'].values.reshape(len(df_not_classic[df_not_classic['fuelType'] == 'diesel']), 1)\n",
    "y_d = df_not_classic[df_not_classic['fuelType'] == 'diesel']['price'].values.reshape(len(df_not_classic[df_not_classic['fuelType'] == 'diesel']), 1)\n",
    "res_d = []\n",
    "for i in np.unique(x_d):\n",
    "    res_d.append(np.mean(y_d[x_d==i]))\n",
    "    \n",
    "plt.plot(np.unique(x_b), res_b, color='r')\n",
    "plt.plot(np.unique(x_d), res_d, color='b')"
   ]
  },
  {
   "cell_type": "code",
   "execution_count": 207,
   "metadata": {
    "collapsed": false
   },
   "outputs": [],
   "source": [
    "group = df.groupby(['brand'])[['price', 'kilometer', 'powerPS', 'age', 'min_online_time']]"
   ]
  },
  {
   "cell_type": "code",
   "execution_count": 215,
   "metadata": {
    "collapsed": false
   },
   "outputs": [
    {
     "data": {
      "text/html": [
       "<div>\n",
       "<table border=\"1\" class=\"dataframe\">\n",
       "  <thead>\n",
       "    <tr style=\"text-align: right;\">\n",
       "      <th></th>\n",
       "      <th>price</th>\n",
       "      <th>kilometer</th>\n",
       "      <th>powerPS</th>\n",
       "      <th>age</th>\n",
       "    </tr>\n",
       "    <tr>\n",
       "      <th>brand</th>\n",
       "      <th></th>\n",
       "      <th></th>\n",
       "      <th></th>\n",
       "      <th></th>\n",
       "    </tr>\n",
       "  </thead>\n",
       "  <tbody>\n",
       "    <tr>\n",
       "      <th>alfa_romeo</th>\n",
       "      <td>4710.906157</td>\n",
       "      <td>128135.086671</td>\n",
       "      <td>139.928870</td>\n",
       "      <td>163.423790</td>\n",
       "    </tr>\n",
       "    <tr>\n",
       "      <th>audi</th>\n",
       "      <td>10163.549094</td>\n",
       "      <td>127267.846898</td>\n",
       "      <td>165.288460</td>\n",
       "      <td>138.020613</td>\n",
       "    </tr>\n",
       "    <tr>\n",
       "      <th>bmw</th>\n",
       "      <td>9255.344704</td>\n",
       "      <td>131809.136818</td>\n",
       "      <td>172.600515</td>\n",
       "      <td>149.877094</td>\n",
       "    </tr>\n",
       "    <tr>\n",
       "      <th>chevrolet</th>\n",
       "      <td>7307.691099</td>\n",
       "      <td>98433.059088</td>\n",
       "      <td>135.631264</td>\n",
       "      <td>149.703815</td>\n",
       "    </tr>\n",
       "    <tr>\n",
       "      <th>chrysler</th>\n",
       "      <td>4564.871257</td>\n",
       "      <td>134141.716567</td>\n",
       "      <td>160.572854</td>\n",
       "      <td>171.117764</td>\n",
       "    </tr>\n",
       "    <tr>\n",
       "      <th>citroen</th>\n",
       "      <td>4096.216566</td>\n",
       "      <td>118800.220143</td>\n",
       "      <td>93.225096</td>\n",
       "      <td>138.722069</td>\n",
       "    </tr>\n",
       "    <tr>\n",
       "      <th>dacia</th>\n",
       "      <td>6053.378830</td>\n",
       "      <td>85473.537604</td>\n",
       "      <td>85.267409</td>\n",
       "      <td>65.855153</td>\n",
       "    </tr>\n",
       "    <tr>\n",
       "      <th>daewoo</th>\n",
       "      <td>1127.928358</td>\n",
       "      <td>124268.656716</td>\n",
       "      <td>76.740299</td>\n",
       "      <td>169.519403</td>\n",
       "    </tr>\n",
       "    <tr>\n",
       "      <th>daihatsu</th>\n",
       "      <td>2075.930966</td>\n",
       "      <td>116489.151874</td>\n",
       "      <td>64.911243</td>\n",
       "      <td>159.646943</td>\n",
       "    </tr>\n",
       "    <tr>\n",
       "      <th>fiat</th>\n",
       "      <td>3339.565620</td>\n",
       "      <td>113471.535640</td>\n",
       "      <td>76.626056</td>\n",
       "      <td>151.838303</td>\n",
       "    </tr>\n",
       "    <tr>\n",
       "      <th>ford</th>\n",
       "      <td>4257.347522</td>\n",
       "      <td>122367.961335</td>\n",
       "      <td>102.940604</td>\n",
       "      <td>152.067839</td>\n",
       "    </tr>\n",
       "    <tr>\n",
       "      <th>honda</th>\n",
       "      <td>4517.965969</td>\n",
       "      <td>123997.382199</td>\n",
       "      <td>113.814136</td>\n",
       "      <td>169.269634</td>\n",
       "    </tr>\n",
       "    <tr>\n",
       "      <th>hyundai</th>\n",
       "      <td>6047.836291</td>\n",
       "      <td>101503.078595</td>\n",
       "      <td>109.033321</td>\n",
       "      <td>102.550887</td>\n",
       "    </tr>\n",
       "    <tr>\n",
       "      <th>jaguar</th>\n",
       "      <td>12891.960251</td>\n",
       "      <td>123064.853556</td>\n",
       "      <td>234.366109</td>\n",
       "      <td>178.953975</td>\n",
       "    </tr>\n",
       "    <tr>\n",
       "      <th>jeep</th>\n",
       "      <td>11914.521242</td>\n",
       "      <td>119223.856209</td>\n",
       "      <td>179.954248</td>\n",
       "      <td>175.006536</td>\n",
       "    </tr>\n",
       "    <tr>\n",
       "      <th>kia</th>\n",
       "      <td>6387.902338</td>\n",
       "      <td>106361.038961</td>\n",
       "      <td>115.403636</td>\n",
       "      <td>104.957403</td>\n",
       "    </tr>\n",
       "    <tr>\n",
       "      <th>lada</th>\n",
       "      <td>3517.295775</td>\n",
       "      <td>72640.845070</td>\n",
       "      <td>71.859155</td>\n",
       "      <td>154.661972</td>\n",
       "    </tr>\n",
       "    <tr>\n",
       "      <th>lancia</th>\n",
       "      <td>3791.841270</td>\n",
       "      <td>122460.317460</td>\n",
       "      <td>97.863492</td>\n",
       "      <td>188.047619</td>\n",
       "    </tr>\n",
       "    <tr>\n",
       "      <th>land_rover</th>\n",
       "      <td>17725.562197</td>\n",
       "      <td>119378.029079</td>\n",
       "      <td>161.487884</td>\n",
       "      <td>136.576737</td>\n",
       "    </tr>\n",
       "    <tr>\n",
       "      <th>mazda</th>\n",
       "      <td>4656.987985</td>\n",
       "      <td>123345.431790</td>\n",
       "      <td>116.958198</td>\n",
       "      <td>155.225532</td>\n",
       "    </tr>\n",
       "    <tr>\n",
       "      <th>mercedes_benz</th>\n",
       "      <td>9172.791591</td>\n",
       "      <td>129720.028580</td>\n",
       "      <td>162.458973</td>\n",
       "      <td>163.326000</td>\n",
       "    </tr>\n",
       "    <tr>\n",
       "      <th>mini</th>\n",
       "      <td>10406.215686</td>\n",
       "      <td>92088.585434</td>\n",
       "      <td>125.872549</td>\n",
       "      <td>100.092087</td>\n",
       "    </tr>\n",
       "    <tr>\n",
       "      <th>mitsubishi</th>\n",
       "      <td>3882.420382</td>\n",
       "      <td>124850.563449</td>\n",
       "      <td>114.398334</td>\n",
       "      <td>164.345419</td>\n",
       "    </tr>\n",
       "    <tr>\n",
       "      <th>nissan</th>\n",
       "      <td>5376.141523</td>\n",
       "      <td>116819.983017</td>\n",
       "      <td>103.406453</td>\n",
       "      <td>146.783470</td>\n",
       "    </tr>\n",
       "    <tr>\n",
       "      <th>opel</th>\n",
       "      <td>3435.161216</td>\n",
       "      <td>127122.446615</td>\n",
       "      <td>97.611886</td>\n",
       "      <td>163.111519</td>\n",
       "    </tr>\n",
       "    <tr>\n",
       "      <th>peugeot</th>\n",
       "      <td>3654.813441</td>\n",
       "      <td>122107.634865</td>\n",
       "      <td>97.626754</td>\n",
       "      <td>143.035149</td>\n",
       "    </tr>\n",
       "    <tr>\n",
       "      <th>porsche</th>\n",
       "      <td>35713.433140</td>\n",
       "      <td>103639.534884</td>\n",
       "      <td>288.908140</td>\n",
       "      <td>167.634884</td>\n",
       "    </tr>\n",
       "    <tr>\n",
       "      <th>renault</th>\n",
       "      <td>2850.251094</td>\n",
       "      <td>125652.668416</td>\n",
       "      <td>86.591601</td>\n",
       "      <td>156.235171</td>\n",
       "    </tr>\n",
       "    <tr>\n",
       "      <th>rover</th>\n",
       "      <td>1979.919231</td>\n",
       "      <td>134134.615385</td>\n",
       "      <td>108.580769</td>\n",
       "      <td>201.192308</td>\n",
       "    </tr>\n",
       "    <tr>\n",
       "      <th>saab</th>\n",
       "      <td>4307.745803</td>\n",
       "      <td>141990.407674</td>\n",
       "      <td>161.258993</td>\n",
       "      <td>195.016787</td>\n",
       "    </tr>\n",
       "    <tr>\n",
       "      <th>seat</th>\n",
       "      <td>5114.662946</td>\n",
       "      <td>117511.160714</td>\n",
       "      <td>98.238231</td>\n",
       "      <td>130.042817</td>\n",
       "    </tr>\n",
       "    <tr>\n",
       "      <th>skoda</th>\n",
       "      <td>6967.078444</td>\n",
       "      <td>111983.333333</td>\n",
       "      <td>105.675333</td>\n",
       "      <td>104.668222</td>\n",
       "    </tr>\n",
       "    <tr>\n",
       "      <th>smart</th>\n",
       "      <td>3970.631184</td>\n",
       "      <td>96136.431784</td>\n",
       "      <td>61.021589</td>\n",
       "      <td>123.415592</td>\n",
       "    </tr>\n",
       "    <tr>\n",
       "      <th>subaru</th>\n",
       "      <td>5161.530612</td>\n",
       "      <td>124063.079777</td>\n",
       "      <td>140.671614</td>\n",
       "      <td>172.018553</td>\n",
       "    </tr>\n",
       "    <tr>\n",
       "      <th>suzuki</th>\n",
       "      <td>4512.646811</td>\n",
       "      <td>105358.002407</td>\n",
       "      <td>87.834537</td>\n",
       "      <td>143.933815</td>\n",
       "    </tr>\n",
       "    <tr>\n",
       "      <th>toyota</th>\n",
       "      <td>5608.721708</td>\n",
       "      <td>115939.880305</td>\n",
       "      <td>106.952938</td>\n",
       "      <td>138.056583</td>\n",
       "    </tr>\n",
       "    <tr>\n",
       "      <th>trabant</th>\n",
       "      <td>2598.591837</td>\n",
       "      <td>54107.142857</td>\n",
       "      <td>22.877551</td>\n",
       "      <td>400.255102</td>\n",
       "    </tr>\n",
       "    <tr>\n",
       "      <th>volkswagen</th>\n",
       "      <td>6223.428732</td>\n",
       "      <td>126135.238060</td>\n",
       "      <td>106.005966</td>\n",
       "      <td>155.955540</td>\n",
       "    </tr>\n",
       "    <tr>\n",
       "      <th>volvo</th>\n",
       "      <td>5837.479656</td>\n",
       "      <td>137460.876369</td>\n",
       "      <td>147.215180</td>\n",
       "      <td>173.381455</td>\n",
       "    </tr>\n",
       "  </tbody>\n",
       "</table>\n",
       "</div>"
      ],
      "text/plain": [
       "                      price      kilometer     powerPS         age\n",
       "brand                                                             \n",
       "alfa_romeo      4710.906157  128135.086671  139.928870  163.423790\n",
       "audi           10163.549094  127267.846898  165.288460  138.020613\n",
       "bmw             9255.344704  131809.136818  172.600515  149.877094\n",
       "chevrolet       7307.691099   98433.059088  135.631264  149.703815\n",
       "chrysler        4564.871257  134141.716567  160.572854  171.117764\n",
       "citroen         4096.216566  118800.220143   93.225096  138.722069\n",
       "dacia           6053.378830   85473.537604   85.267409   65.855153\n",
       "daewoo          1127.928358  124268.656716   76.740299  169.519403\n",
       "daihatsu        2075.930966  116489.151874   64.911243  159.646943\n",
       "fiat            3339.565620  113471.535640   76.626056  151.838303\n",
       "ford            4257.347522  122367.961335  102.940604  152.067839\n",
       "honda           4517.965969  123997.382199  113.814136  169.269634\n",
       "hyundai         6047.836291  101503.078595  109.033321  102.550887\n",
       "jaguar         12891.960251  123064.853556  234.366109  178.953975\n",
       "jeep           11914.521242  119223.856209  179.954248  175.006536\n",
       "kia             6387.902338  106361.038961  115.403636  104.957403\n",
       "lada            3517.295775   72640.845070   71.859155  154.661972\n",
       "lancia          3791.841270  122460.317460   97.863492  188.047619\n",
       "land_rover     17725.562197  119378.029079  161.487884  136.576737\n",
       "mazda           4656.987985  123345.431790  116.958198  155.225532\n",
       "mercedes_benz   9172.791591  129720.028580  162.458973  163.326000\n",
       "mini           10406.215686   92088.585434  125.872549  100.092087\n",
       "mitsubishi      3882.420382  124850.563449  114.398334  164.345419\n",
       "nissan          5376.141523  116819.983017  103.406453  146.783470\n",
       "opel            3435.161216  127122.446615   97.611886  163.111519\n",
       "peugeot         3654.813441  122107.634865   97.626754  143.035149\n",
       "porsche        35713.433140  103639.534884  288.908140  167.634884\n",
       "renault         2850.251094  125652.668416   86.591601  156.235171\n",
       "rover           1979.919231  134134.615385  108.580769  201.192308\n",
       "saab            4307.745803  141990.407674  161.258993  195.016787\n",
       "seat            5114.662946  117511.160714   98.238231  130.042817\n",
       "skoda           6967.078444  111983.333333  105.675333  104.668222\n",
       "smart           3970.631184   96136.431784   61.021589  123.415592\n",
       "subaru          5161.530612  124063.079777  140.671614  172.018553\n",
       "suzuki          4512.646811  105358.002407   87.834537  143.933815\n",
       "toyota          5608.721708  115939.880305  106.952938  138.056583\n",
       "trabant         2598.591837   54107.142857   22.877551  400.255102\n",
       "volkswagen      6223.428732  126135.238060  106.005966  155.955540\n",
       "volvo           5837.479656  137460.876369  147.215180  173.381455"
      ]
     },
     "execution_count": 215,
     "metadata": {},
     "output_type": "execute_result"
    }
   ],
   "source": [
    "group.mean()"
   ]
  },
  {
   "cell_type": "code",
   "execution_count": null,
   "metadata": {
    "collapsed": true
   },
   "outputs": [],
   "source": []
  }
 ],
 "metadata": {
  "kernelspec": {
   "display_name": "Python 2",
   "language": "python",
   "name": "python2"
  },
  "language_info": {
   "codemirror_mode": {
    "name": "ipython",
    "version": 2
   },
   "file_extension": ".py",
   "mimetype": "text/x-python",
   "name": "python",
   "nbconvert_exporter": "python",
   "pygments_lexer": "ipython2",
   "version": "2.7.12"
  }
 },
 "nbformat": 4,
 "nbformat_minor": 1
}
